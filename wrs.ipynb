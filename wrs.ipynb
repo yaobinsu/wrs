{
 "cells": [
  {
   "cell_type": "code",
   "execution_count": null,
   "metadata": {},
   "outputs": [],
   "source": [
    "'''\n",
    "Author: yaobinsu 68414437+yaobinsu@users.noreply.github.com\n",
    "Date: 2023-06-13 17:29:48\n",
    "LastEditors: yaobinsu 68414437+yaobinsu@users.noreply.github.com\n",
    "LastEditTime: 2023-06-13 17:29:59\n",
    "FilePath: /wrs/wrs.ipynb\n",
    "Description: 这是默认设置,请设置`customMade`, 打开koroFileHeader查看配置 进行设置: https://github.com/OBKoro1/koro1FileHeader/wiki/%E9%85%8D%E7%BD%AE\n",
    "'''\n"
   ]
  },
  {
   "attachments": {},
   "cell_type": "markdown",
   "metadata": {},
   "source": [
    "## Exercise 1\n"
   ]
  },
  {
   "cell_type": "code",
   "execution_count": 1,
   "metadata": {},
   "outputs": [
    {
     "name": "stdout",
     "output_type": "stream",
     "text": [
      "Original train data shape:  (32335, 5)\n",
      "Original test data shape:  (9158, 5)\n",
      "User rating distribution: \n",
      " count    5681.00000\n",
      "mean        5.69178\n",
      "std         7.94423\n",
      "min         2.00000\n",
      "25%         2.00000\n",
      "50%         3.00000\n",
      "75%         6.00000\n",
      "max       158.00000\n",
      "Name: rating, dtype: float64\n",
      "Item rating distribution: \n",
      " count    4462.000000\n",
      "mean        7.246750\n",
      "std        15.503312\n",
      "min         1.000000\n",
      "25%         3.000000\n",
      "50%         4.000000\n",
      "75%         6.000000\n",
      "max       474.000000\n",
      "Name: rating, dtype: float64\n",
      "Top 5 popular items: \n",
      " book_id\n",
      "23513349    474\n",
      "20821284    299\n",
      "30075802    271\n",
      "18263725    252\n",
      "1420        191\n",
      "Name: rating, dtype: int64\n"
     ]
    }
   ],
   "source": [
    "import pandas as pd\n",
    "\n",
    "# 读取数据\n",
    "train = pd.read_csv('/workspaces/wrs/data/train.data')\n",
    "test = pd.read_csv('/workspaces/wrs/data/test.data')\n",
    "print('Original train data shape: ', train.shape)\n",
    "print('Original test data shape: ', test.shape)\n",
    "\n",
    "# 清除缺失的评级\n",
    "train = train.dropna(subset=['rating'])\n",
    "test = test.dropna(subset=['rating'])\n",
    "\n",
    "# 删除重复项\n",
    "train = train.sort_values(['user_id', 'book_id', 'timestamp'], ascending=[True, True, True])\n",
    "train = train.drop_duplicates(subset=['user_id', 'book_id'], keep='last')\n",
    "\n",
    "test = test.sort_values(['user_id', 'book_id', 'timestamp'], ascending=[True, True, True])\n",
    "test = test.drop_duplicates(subset=['user_id', 'book_id'], keep='last')\n",
    "\n",
    "# 确保测试集中的所有用户也出现在训练集中\n",
    "test = test[test['user_id'].isin(train['user_id'])]\n",
    "\n",
    "# 计算用户和项目统计信息\n",
    "user_rating_count = train.groupby('user_id')['rating'].count()\n",
    "item_rating_count = train.groupby('book_id')['rating'].count()\n",
    "\n",
    "print('User rating distribution: \\n', user_rating_count.describe())\n",
    "print('Item rating distribution: \\n', item_rating_count.describe())\n",
    "\n",
    "top_5_popular_items = item_rating_count.nlargest(5)\n",
    "print('Top 5 popular items: \\n', top_5_popular_items)\n"
   ]
  },
  {
   "attachments": {},
   "cell_type": "markdown",
   "metadata": {},
   "source": [
    "## Exercise 2"
   ]
  },
  {
   "cell_type": "code",
   "execution_count": 1,
   "metadata": {},
   "outputs": [
    {
     "ename": "ModuleNotFoundError",
     "evalue": "No module named 'surprise'",
     "output_type": "error",
     "traceback": [
      "\u001b[0;31m---------------------------------------------------------------------------\u001b[0m",
      "\u001b[0;31mModuleNotFoundError\u001b[0m                       Traceback (most recent call last)",
      "Cell \u001b[0;32mIn[1], line 1\u001b[0m\n\u001b[0;32m----> 1\u001b[0m \u001b[39mfrom\u001b[39;00m \u001b[39msurprise\u001b[39;00m \u001b[39mimport\u001b[39;00m KNNBasic, SVD\n\u001b[1;32m      2\u001b[0m \u001b[39mfrom\u001b[39;00m \u001b[39msurprise\u001b[39;00m \u001b[39mimport\u001b[39;00m Dataset, Reader\n\u001b[1;32m      3\u001b[0m \u001b[39mfrom\u001b[39;00m \u001b[39msurprise\u001b[39;00m\u001b[39m.\u001b[39;00m\u001b[39mmodel_selection\u001b[39;00m \u001b[39mimport\u001b[39;00m cross_validate, GridSearchCV\n",
      "\u001b[0;31mModuleNotFoundError\u001b[0m: No module named 'surprise'"
     ]
    }
   ],
   "source": [
    "from surprise import KNNBasic, SVD\n",
    "from surprise import Dataset, Reader\n",
    "from surprise.model_selection import cross_validate, GridSearchCV\n",
    "\n",
    "# 转换数据格式\n",
    "reader = Reader(rating_scale=(1, 5))\n",
    "train_data = Dataset.load_from_df(train[['user_id', 'book_id', 'rating']], reader)\n",
    "\n",
    "# 定义邻域基模型\n",
    "knn_model = KNNBasic()\n",
    "\n",
    "# 定义潜在因子模型\n",
    "svd_model = SVD()\n",
    "\n",
    "# 使用3折交叉验证进行网格搜索以找到最优超参数\n",
    "param_grid = {'k': [10, 20, 30, 40, 50], 'sim_options': {'name': ['msd', 'cosine', 'pearson_baseline'], 'user_based': [False, True]}}\n",
    "knn_gs = GridSearchCV(KNNBasic, param_grid, measures=['rmse'], cv=3)\n",
    "knn_gs.fit(train_data)\n",
    "\n",
    "param_grid = {'n_epochs': [5, 10, 20], 'n_factors': [50, 100, 150]}\n",
    "svd_gs = GridSearchCV(SVD, param_grid, measures=['rmse'], cv=3)\n",
    "svd_gs.fit(train_data)\n",
    "\n",
    "# 输出最优超参数和对应的RMSE\n",
    "print('For KNNBasic model, optimal hyperparameters: ', knn_gs.best_params['rmse'])\n",
    "print('Corresponding RMSE: ', knn_gs.best_score['rmse'])\n",
    "\n",
    "print('For SVD model, optimal hyperparameters: ', svd_gs.best_params['rmse'])\n",
    "print('Corresponding RMSE: ', svd_gs.best_score['rmse'])\n",
    "\n",
    "# 使用最优超参数重新训练模型\n",
    "knn_model = knn_gs.best_estimator['rmse']\n",
    "svd_model = svd_gs.best_estimator['rmse']\n",
    "\n",
    "knn_model.fit(train_data.build_full_trainset())\n",
    "svd_model.fit(train_data.build_full_trainset())\n"
   ]
  }
 ],
 "metadata": {
  "kernelspec": {
   "display_name": "Python 3",
   "language": "python",
   "name": "python3"
  },
  "language_info": {
   "codemirror_mode": {
    "name": "ipython",
    "version": 3
   },
   "file_extension": ".py",
   "mimetype": "text/x-python",
   "name": "python",
   "nbconvert_exporter": "python",
   "pygments_lexer": "ipython3",
   "version": "3.10.8"
  },
  "orig_nbformat": 4
 },
 "nbformat": 4,
 "nbformat_minor": 2
}
